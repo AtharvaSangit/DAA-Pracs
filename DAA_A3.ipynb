{
  "nbformat": 4,
  "nbformat_minor": 0,
  "metadata": {
    "colab": {
      "provenance": []
    },
    "kernelspec": {
      "name": "python3",
      "display_name": "Python 3"
    },
    "language_info": {
      "name": "python"
    }
  },
  "cells": [
    {
      "cell_type": "markdown",
      "source": [
        "**Name:**\n",
        "\n",
        "**Div:**\n",
        "\n",
        "**Roll No.:**\n",
        "\n",
        "\n",
        "\n",
        "---\n",
        "\n",
        "\n",
        "\n",
        "---\n",
        "\n",
        "\n",
        "\n",
        "\n",
        "\n"
      ],
      "metadata": {
        "id": "gaRhRm9W9sXp"
      }
    },
    {
      "cell_type": "markdown",
      "source": [
        "## **Group A**\n",
        "\n",
        "###**Assignment No. 3**"
      ],
      "metadata": {
        "id": "yGLOPAwk_lAr"
      }
    },
    {
      "cell_type": "code",
      "execution_count": 25,
      "metadata": {
        "colab": {
          "base_uri": "https://localhost:8080/"
        },
        "id": "FzJmPlxOPfT9",
        "outputId": "7c22ec82-3d8e-4328-8fe0-2abfc7bd5038"
      },
      "outputs": [
        {
          "output_type": "stream",
          "name": "stdout",
          "text": [
            "Maximum value we can obtain = 75\n"
          ]
        }
      ],
      "source": [
        "'''\n",
        "A Dynamic Programming based Python program\n",
        "for 0-1 Knapsack problem returns the maximum\n",
        "value that can be put in a knapsack of capacity W\n",
        "\n",
        "'''\n",
        "def knapSack(W, wt, val):\n",
        "  n = len(val)\n",
        "  dp = [[-1 for _ in range(W + 1)] for _ in range(n + 1)]\n",
        "\n",
        "  for i in range(n + 1):\n",
        "    dp[i][0] = 0\n",
        "\n",
        "  for j in range(W + 1):\n",
        "      dp[0][j] = 0\n",
        "  for i in range(1,n+1):\n",
        "    for j in range(1,W+1):\n",
        "      v = val[i - 1] # ith item val\n",
        "      w = wt[i - 1] # ith item wt\n",
        "      if w<=j:\n",
        "        includedProfit = v + dp[i-1][j-w]\n",
        "        excludedProfit = dp[i-1][j]\n",
        "        dp[i][j] = max(includedProfit, excludedProfit)\n",
        "      else:\n",
        "        excludedProfit = dp[i-1][j]\n",
        "        dp[i][j] = excludedProfit\n",
        "\n",
        "  return dp[n][W]\n",
        "\n",
        "\n",
        "# Driver code\n",
        "\n",
        "#EX 1\n",
        "val = [15, 14, 10, 45, 30 ]\n",
        "wt = [2, 5, 1, 3, 4]\n",
        "W = 7\n",
        "\n",
        "#EX 2\n",
        "# val = [60, 100, 120]\n",
        "# wt = [10, 20, 30]\n",
        "# W = 50\n",
        "\n",
        "print(f'Maximum value we can obtain = {knapSack(W, wt, val)}')\n"
      ]
    }
  ]
}