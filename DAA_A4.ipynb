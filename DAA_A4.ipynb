{
  "nbformat": 4,
  "nbformat_minor": 0,
  "metadata": {
    "colab": {
      "provenance": []
    },
    "kernelspec": {
      "name": "python3",
      "display_name": "Python 3"
    },
    "language_info": {
      "name": "python"
    }
  },
  "cells": [
    {
      "cell_type": "markdown",
      "source": [
        "**Name:**\n",
        "\n",
        "**Div:**\n",
        "\n",
        "**Roll No.:**\n",
        "\n",
        "\n",
        "\n",
        "---\n",
        "\n",
        "\n",
        "\n",
        "---\n",
        "\n",
        "\n",
        "\n",
        "\n",
        "\n"
      ],
      "metadata": {
        "id": "gaRhRm9W9sXp"
      }
    },
    {
      "cell_type": "markdown",
      "source": [
        "## **Group A**\n",
        "\n",
        "###**Assignment No. 4**"
      ],
      "metadata": {
        "id": "yGLOPAwk_lAr"
      }
    },
    {
      "cell_type": "code",
      "execution_count": 21,
      "metadata": {
        "colab": {
          "base_uri": "https://localhost:8080/"
        },
        "id": "_TzS0U7DLQtg",
        "outputId": "e4bfbe67-06da-49f7-ab22-1a91c73f6b93"
      },
      "outputs": [
        {
          "output_type": "stream",
          "name": "stdout",
          "text": [
            "How many terms? 5\n",
            "---Chess Board--- Q . . . . \n",
            ". . Q . . \n",
            ". . . . Q \n",
            ". Q . . . \n",
            ". . . Q . \n",
            "---Chess Board--- Q . . . . \n",
            ". . . Q . \n",
            ". Q . . . \n",
            ". . . . Q \n",
            ". . Q . . \n",
            "---Chess Board--- . Q . . . \n",
            ". . . Q . \n",
            "Q . . . . \n",
            ". . Q . . \n",
            ". . . . Q \n",
            "---Chess Board--- . Q . . . \n",
            ". . . . Q \n",
            ". . Q . . \n",
            "Q . . . . \n",
            ". . . Q . \n",
            "---Chess Board--- . . Q . . \n",
            "Q . . . . \n",
            ". . . Q . \n",
            ". Q . . . \n",
            ". . . . Q \n",
            "---Chess Board--- . . Q . . \n",
            ". . . . Q \n",
            ". Q . . . \n",
            ". . . Q . \n",
            "Q . . . . \n",
            "---Chess Board--- . . . Q . \n",
            "Q . . . . \n",
            ". . Q . . \n",
            ". . . . Q \n",
            ". Q . . . \n",
            "---Chess Board--- . . . Q . \n",
            ". Q . . . \n",
            ". . . . Q \n",
            ". . Q . . \n",
            "Q . . . . \n",
            "---Chess Board--- . . . . Q \n",
            ". Q . . . \n",
            ". . . Q . \n",
            "Q . . . . \n",
            ". . Q . . \n",
            "---Chess Board--- . . . . Q \n",
            ". . Q . . \n",
            "Q . . . . \n",
            ". . . Q . \n",
            ". Q . . . \n",
            "Total Solutions:  10\n"
          ]
        }
      ],
      "source": [
        "class NQueens:\n",
        "    def __init__(self,n):\n",
        "        self.board = [['.']*n for _ in range(n)]\n",
        "        self.count = 0\n",
        "\n",
        "    def isSafe(self, row, col):\n",
        "        # vertically up\n",
        "        i, j = row-1,col\n",
        "        while(i>=0):\n",
        "            if self.board[i][j]=='Q':\n",
        "                return False\n",
        "            i-=1\n",
        "\n",
        "        # diagonal left up\n",
        "        i, j = row-1,col-1\n",
        "        while(i>=0 and j>=0):\n",
        "            if self.board[i][j]=='Q':\n",
        "                return False\n",
        "            i-=1\n",
        "            j-=1\n",
        "\n",
        "        # diagonal right up\n",
        "        i, j = row-1,col+1\n",
        "        while(i>=0 and j<len(self.board)):\n",
        "            if self.board[i][j]=='Q':\n",
        "                return False\n",
        "            i-=1\n",
        "            j+=1\n",
        "        return True\n",
        "\n",
        "    def NQueensSol(self, row):\n",
        "        if row == len(self.board):\n",
        "            self.count+=1\n",
        "            self.print_board()\n",
        "            return\n",
        "        for j in range(len(self.board)):\n",
        "            if self.isSafe(row,j):\n",
        "                self.board[row][j] = 'Q'\n",
        "                self.NQueensSol(row+1)\n",
        "                self.board[row][j] = '.'\n",
        "\n",
        "    def print_board(self):\n",
        "            print(\"---Chess Board---\")\n",
        "            for i in range(len(self.board)):\n",
        "                for j in range(len(self.board)):\n",
        "                    print(self.board[i][j], end=\" \")\n",
        "                print()\n",
        "\n",
        "\n",
        "n = int(input(\"How many terms? \")) #4, 6,\n",
        "nq = NQueens(n)\n",
        "nq.NQueensSol(0)\n",
        "print(\"Total Solutions: \",nq.count)\n",
        "\n"
      ]
    },
    {
      "cell_type": "code",
      "source": [],
      "metadata": {
        "id": "CwvJ0OKC16Vb"
      },
      "execution_count": null,
      "outputs": []
    }
  ]
}