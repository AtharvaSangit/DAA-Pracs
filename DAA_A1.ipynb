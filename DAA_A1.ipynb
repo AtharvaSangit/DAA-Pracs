{
  "nbformat": 4,
  "nbformat_minor": 0,
  "metadata": {
    "colab": {
      "provenance": []
    },
    "kernelspec": {
      "name": "python3",
      "display_name": "Python 3"
    },
    "language_info": {
      "name": "python"
    }
  },
  "cells": [
    {
      "cell_type": "markdown",
      "source": [
        "**Name:**\n",
        "\n",
        "**Div:**\n",
        "\n",
        "**Roll No.:**\n",
        "\n",
        "\n",
        "\n",
        "---\n",
        "\n",
        "\n",
        "\n",
        "---\n",
        "\n",
        "\n",
        "\n",
        "\n",
        "\n"
      ],
      "metadata": {
        "id": "gaRhRm9W9sXp"
      }
    },
    {
      "cell_type": "markdown",
      "source": [
        "# **Group A**\n",
        "\n",
        "##**Assignment No. 1**"
      ],
      "metadata": {
        "id": "yGLOPAwk_lAr"
      }
    },
    {
      "cell_type": "markdown",
      "source": [
        "**Method 1 (Use Non-recursion)**"
      ],
      "metadata": {
        "id": "eVxOA6Bl4eKi"
      }
    },
    {
      "cell_type": "code",
      "execution_count": 22,
      "metadata": {
        "colab": {
          "base_uri": "https://localhost:8080/",
          "height": 0
        },
        "id": "TpTeSXBnyg6e",
        "outputId": "9222c245-995e-4df5-cbbf-df7d2639ab82"
      },
      "outputs": [
        {
          "output_type": "stream",
          "name": "stdout",
          "text": [
            "How many terms? 7\n",
            "Fibonacci sequence upto 7 th term :\n",
            "0 1 1 2 3 5 8 "
          ]
        }
      ],
      "source": [
        "# Program to display the Fibonacci sequence up to n-th term\n",
        "nterms =int(input(\"How many terms? \"))\n",
        "dp = [0]*(nterms+1)\n",
        "dp[0] = 0\n",
        "dp[1] = 1\n",
        "for i in range(2,nterms+1):\n",
        "  dp[i]=dp[i-1]+dp[i-2]\n",
        "print(\"Fibonacci sequence upto\", nterms, \"th term :\")\n",
        "j=0\n",
        "while j < len(dp)-1:\n",
        "    print(dp[j], end=\" \")\n",
        "    j = j + 1\n"
      ]
    },
    {
      "cell_type": "markdown",
      "source": [
        "\n",
        "\n",
        "**Method 2 (Use Recursion)**"
      ],
      "metadata": {
        "id": "NgZooJBdDEAN"
      }
    },
    {
      "cell_type": "code",
      "source": [
        "# Python program to display the Fibonacci sequence\n",
        "\n",
        "def recur_fibo(n):\n",
        "    if n <= 1:\n",
        "        return n\n",
        "    return recur_fibo(n-1) + recur_fibo(n-2)\n",
        "\n",
        "nterms = int(input(\"How many terms? \"))\n",
        "\n",
        "# Check if the number of terms is valid\n",
        "if nterms <= 0:\n",
        "    print(\"Please enter a positive integer\")\n",
        "else:\n",
        "    print(\"Fibonacci sequence upto\", nterms, \"th term :\")\n",
        "    for i in range(nterms):\n",
        "        print(recur_fibo(i), end=\" \")\n"
      ],
      "metadata": {
        "colab": {
          "base_uri": "https://localhost:8080/",
          "height": 0
        },
        "id": "8go_0Y-cDMG8",
        "outputId": "10e0f222-e847-41cb-d87a-fe92053baf5c"
      },
      "execution_count": 25,
      "outputs": [
        {
          "output_type": "stream",
          "name": "stdout",
          "text": [
            "How many terms? 7\n",
            "Fibonacci sequence upto 7 th term :\n",
            "0 1 1 2 3 5 8 "
          ]
        }
      ]
    }
  ]
}